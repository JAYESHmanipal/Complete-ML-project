{
 "cells": [
  {
   "cell_type": "code",
   "execution_count": 4,
   "metadata": {},
   "outputs": [
    {
     "name": "stdout",
     "output_type": "stream",
     "text": [
      "File loaded successfully: <class 'sklearn.compose._column_transformer.ColumnTransformer'>\n"
     ]
    }
   ],
   "source": [
    "import pickle\n",
    "\n",
    "file_path = \"E:/Project/MLproject/artifacts/preprocessor.pkl\"\n",
    "\n",
    "try:\n",
    "    with open(file_path, \"rb\") as f:\n",
    "        obj = pickle.load(f)\n",
    "    print(\"File loaded successfully:\", type(obj))\n",
    "except Exception as e:\n",
    "    print(\"Error while loading file:\", e)\n"
   ]
  },
  {
   "cell_type": "code",
   "execution_count": 3,
   "metadata": {},
   "outputs": [
    {
     "name": "stdout",
     "output_type": "stream",
     "text": [
      "File moved successfully to E:/Project/MLproject/artifacts/preprocessor.pkl\n"
     ]
    }
   ],
   "source": [
    "import os\n",
    "import shutil\n",
    "\n",
    "source_path = \"E:/Project/MLproject/artifacts/proprocessor.pkl\"  # File you uploaded\n",
    "destination_dir = \"E:/Project/MLproject/artifacts/\"\n",
    "destination_path = os.path.join(destination_dir, \"preprocessor.pkl\")\n",
    "\n",
    "# Ensure the target directory exists\n",
    "os.makedirs(destination_dir, exist_ok=True)\n",
    "\n",
    "# Rename and move the file\n",
    "shutil.move(source_path, destination_path)\n",
    "\n",
    "print(f\"File moved successfully to {destination_path}\")\n"
   ]
  }
 ],
 "metadata": {
  "kernelspec": {
   "display_name": "Python 3",
   "language": "python",
   "name": "python3"
  },
  "language_info": {
   "codemirror_mode": {
    "name": "ipython",
    "version": 3
   },
   "file_extension": ".py",
   "mimetype": "text/x-python",
   "name": "python",
   "nbconvert_exporter": "python",
   "pygments_lexer": "ipython3",
   "version": "3.8.20"
  }
 },
 "nbformat": 4,
 "nbformat_minor": 2
}
